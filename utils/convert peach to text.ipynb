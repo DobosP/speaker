{
 "cells": [
  {
   "cell_type": "code",
   "execution_count": 1,
   "id": "ca22e216",
   "metadata": {
    "scrolled": true
   },
   "outputs": [
    {
     "name": "stderr",
     "output_type": "stream",
     "text": [
      "/home/dobo/.local/lib/python3.10/site-packages/tqdm/auto.py:21: TqdmWarning: IProgress not found. Please update jupyter and ipywidgets. See https://ipywidgets.readthedocs.io/en/stable/user_install.html\n",
      "  from .autonotebook import tqdm as notebook_tqdm\n",
      "2024-02-18 12:20:22.334648: I tensorflow/tsl/cuda/cudart_stub.cc:28] Could not find cuda drivers on your machine, GPU will not be used.\n",
      "2024-02-18 12:20:22.406462: I tensorflow/core/platform/cpu_feature_guard.cc:182] This TensorFlow binary is optimized to use available CPU instructions in performance-critical operations.\n",
      "To enable the following instructions: AVX2 FMA, in other operations, rebuild TensorFlow with the appropriate compiler flags.\n",
      "2024-02-18 12:20:23.750013: W tensorflow/compiler/tf2tensorrt/utils/py_utils.cc:38] TF-TRT Warning: Could not find TensorRT\n",
      "/home/dobo/.local/lib/python3.10/site-packages/torch/cuda/__init__.py:628: UserWarning: Can't initialize NVML\n",
      "  warnings.warn(\"Can't initialize NVML\")\n"
     ]
    }
   ],
   "source": [
    "import torch\n",
    "from transformers import AutoModelForSpeechSeq2Seq, AutoProcessor, pipeline\n"
   ]
  },
  {
   "cell_type": "code",
   "execution_count": 3,
   "id": "5c6ca82b",
   "metadata": {},
   "outputs": [
    {
     "name": "stderr",
     "output_type": "stream",
     "text": [
      "Special tokens have been added in the vocabulary, make sure the associated word embeddings are fine-tuned or trained.\n"
     ]
    }
   ],
   "source": [
    "device = \"cuda:0\" if torch.cuda.is_available() else \"cpu\"\n",
    "torch_dtype = torch.float16 if torch.cuda.is_available() else torch.float32\n",
    "model_id = \"openai/whisper-large-v3\"\n",
    "\n",
    "model = AutoModelForSpeechSeq2Seq.from_pretrained(\n",
    "    model_id, torch_dtype=torch_dtype, low_cpu_mem_usage=True, use_safetensors=True\n",
    ")\n",
    "model.to(device)\n",
    "\n",
    "processor = AutoProcessor.from_pretrained(model_id)\n",
    "\n",
    "pipe = pipeline(\n",
    "    \"automatic-speech-recognition\",\n",
    "    model=model,\n",
    "    tokenizer=processor.tokenizer,\n",
    "    feature_extractor=processor.feature_extractor,\n",
    "    max_new_tokens=128,\n",
    "    chunk_length_s=30,\n",
    "    batch_size=16,\n",
    "    return_timestamps=True,\n",
    "    torch_dtype=torch_dtype,\n",
    "    device=device,\n",
    ")"
   ]
  },
  {
   "cell_type": "code",
   "execution_count": null,
   "id": "f57bc40f",
   "metadata": {},
   "outputs": [],
   "source": [
    "\n",
    "result = pipe(\"/home/dobo/projects/speaker/recordings/1_hour.mp3\",generate_kwargs={\"language\": \"english\"})\n",
    "print(result[\"text\"])\n",
    "\n",
    "with open(\"test.txt\", \"w\") as writer:\n",
    "    writer.write(result[\"text\"])\n"
   ]
  },
  {
   "cell_type": "code",
   "execution_count": null,
   "id": "02f17f06",
   "metadata": {},
   "outputs": [],
   "source": [
    "from slicer import Slicer\n",
    "import librosa  # Optional. Use any library you like to read audio files.\n",
    "import soundfile  # Optional. Use any library you like to write audio files.\n",
    "\n",
    "\n",
    "audio, sr = librosa.load('/home/dobo/projects/speaker/recordings/5_min.mp3', sr=None, mono=False)  # Load an audio file with librosa.\n",
    "slicer = Slicer(\n",
    "    sr=sr,\n",
    "    threshold=-40,\n",
    "    min_length=20000,\n",
    "    min_interval=300,\n",
    "    hop_size=10,\n",
    "    max_sil_kept=500\n",
    ")\n",
    "chunks = slicer.slice(audio)\n",
    "for i, chunk in enumerate(chunks):\n",
    "    if len(chunk.shape) > 1:\n",
    "        chunk = chunk.T  # Swap axes if the audio is stereo.\n",
    "    soundfile.write(f'clips/example_{i}.wav', chunk, sr)  # Save sliced audio files with soundfile."
   ]
  }
 ],
 "metadata": {
  "kernelspec": {
   "display_name": "Python 3 (ipykernel)",
   "language": "python",
   "name": "python3"
  },
  "language_info": {
   "codemirror_mode": {
    "name": "ipython",
    "version": 3
   },
   "file_extension": ".py",
   "mimetype": "text/x-python",
   "name": "python",
   "nbconvert_exporter": "python",
   "pygments_lexer": "ipython3",
   "version": "3.10.12"
  }
 },
 "nbformat": 4,
 "nbformat_minor": 5
}
